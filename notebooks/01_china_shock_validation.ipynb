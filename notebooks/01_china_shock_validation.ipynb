{
 "cells": [
  {
   "cell_type": "markdown",
   "metadata": {},
   "source": [
    "# China Shock Validation: Primary Method Test\n",
    "\n",
    "This is the MOST IMPORTANT notebook. If our method cannot detect known boundaries here, it needs refinement."
   ]
  },
  {
   "cell_type": "code",
   "execution_count": null,
   "metadata": {},
   "outputs": [],
   "source": [
    "import sys\n",
    "sys.path.append('..')\n",
    "\n",
    "from validation.china_shock import data_preparation, boundary_detection\n",
    "from theory.spatial_boundaries import SpatialBoundaryDetector\n",
    "\n",
    "print(\"Imports successful\")"
   ]
  }
 ],
 "metadata": {
  "kernelspec": {
   "display_name": "Python 3",
   "language": "python",
   "name": "python3"
  }
 },
 "nbformat": 4,
 "nbformat_minor": 4
}
